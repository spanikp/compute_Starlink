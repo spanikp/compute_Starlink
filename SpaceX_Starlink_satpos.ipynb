{
 "cells": [
  {
   "cell_type": "markdown",
   "metadata": {},
   "source": [
    "# Compute Starlink satellites positions"
   ]
  },
  {
   "cell_type": "code",
   "execution_count": 1,
   "metadata": {},
   "outputs": [
    {
     "data": {
      "text/html": [
       "<div>\n",
       "<style scoped>\n",
       "    .dataframe tbody tr th:only-of-type {\n",
       "        vertical-align: middle;\n",
       "    }\n",
       "\n",
       "    .dataframe tbody tr th {\n",
       "        vertical-align: top;\n",
       "    }\n",
       "\n",
       "    .dataframe thead th {\n",
       "        text-align: right;\n",
       "    }\n",
       "</style>\n",
       "<table border=\"1\" class=\"dataframe\">\n",
       "  <thead>\n",
       "    <tr style=\"text-align: right;\">\n",
       "      <th></th>\n",
       "      <th>Name</th>\n",
       "      <th>NORAD ID</th>\n",
       "      <th>Int'l Code</th>\n",
       "      <th>Launch date</th>\n",
       "      <th>Period[minutes]</th>\n",
       "      <th>Action</th>\n",
       "    </tr>\n",
       "  </thead>\n",
       "  <tbody>\n",
       "    <tr>\n",
       "      <th>0</th>\n",
       "      <td>STARLINK 1068</td>\n",
       "      <td>44772</td>\n",
       "      <td>2019-074BM</td>\n",
       "      <td>2019-11-11</td>\n",
       "      <td>90.8</td>\n",
       "      <td>TRACK IT</td>\n",
       "    </tr>\n",
       "    <tr>\n",
       "      <th>1</th>\n",
       "      <td>STARLINK 1067</td>\n",
       "      <td>44771</td>\n",
       "      <td>2019-074BL</td>\n",
       "      <td>2019-11-11</td>\n",
       "      <td>90.8</td>\n",
       "      <td>TRACK IT</td>\n",
       "    </tr>\n",
       "    <tr>\n",
       "      <th>2</th>\n",
       "      <td>STARLINK 1065</td>\n",
       "      <td>44770</td>\n",
       "      <td>2019-074BK</td>\n",
       "      <td>2019-11-11</td>\n",
       "      <td>90.8</td>\n",
       "      <td>TRACK IT</td>\n",
       "    </tr>\n",
       "    <tr>\n",
       "      <th>3</th>\n",
       "      <td>STARLINK 1064</td>\n",
       "      <td>44769</td>\n",
       "      <td>2019-074BJ</td>\n",
       "      <td>2019-11-11</td>\n",
       "      <td>90.8</td>\n",
       "      <td>TRACK IT</td>\n",
       "    </tr>\n",
       "    <tr>\n",
       "      <th>4</th>\n",
       "      <td>STARLINK 1063</td>\n",
       "      <td>44768</td>\n",
       "      <td>2019-074BH</td>\n",
       "      <td>2019-11-11</td>\n",
       "      <td>90.8</td>\n",
       "      <td>TRACK IT</td>\n",
       "    </tr>\n",
       "  </tbody>\n",
       "</table>\n",
       "</div>"
      ],
      "text/plain": [
       "            Name  NORAD ID  Int'l Code Launch date  Period[minutes]    Action\n",
       "0  STARLINK 1068     44772  2019-074BM  2019-11-11             90.8  TRACK IT\n",
       "1  STARLINK 1067     44771  2019-074BL  2019-11-11             90.8  TRACK IT\n",
       "2  STARLINK 1065     44770  2019-074BK  2019-11-11             90.8  TRACK IT\n",
       "3  STARLINK 1064     44769  2019-074BJ  2019-11-11             90.8  TRACK IT\n",
       "4  STARLINK 1063     44768  2019-074BH  2019-11-11             90.8  TRACK IT"
      ]
     },
     "execution_count": 1,
     "metadata": {},
     "output_type": "execute_result"
    }
   ],
   "source": [
    "import pandas as pd\n",
    "df = pd.read_html(\"https://www.n2yo.com/satellites/?c=52\",attrs={\"id\":\"categoriestab\"})[0]\n",
    "df[\"Launch date\"] = pd.to_datetime(df[\"Launch date\"], format=\"%B %d, %Y\")\n",
    "df.dropna(inplace=True)\n",
    "df[\"NORAD ID\"] = df[\"NORAD ID\"].astype(int) # Convert NORAD ID to integer\n",
    "df.head()"
   ]
  },
  {
   "cell_type": "code",
   "execution_count": 2,
   "metadata": {},
   "outputs": [
    {
     "name": "stdout",
     "output_type": "stream",
     "text": [
      "https://www.n2yo.com/satellite/?s=44772\n",
      "https://www.n2yo.com/satellite/?s=44771\n"
     ]
    }
   ],
   "source": [
    "# Import \n",
    "from bs4 import BeautifulSoup\n",
    "import requests\n",
    "\n",
    "# Make a GET request to fetch the raw HTML content\n",
    "tle = list()\n",
    "for noradId in df[\"NORAD ID\"].loc[0:1]:\n",
    "    satinfo_URL = \"https://www.n2yo.com/satellite/?s={0:d}\".format(noradId)\n",
    "    print(satinfo_URL)\n",
    "    html_content = requests.get(satinfo_URL).text\n",
    "    \n",
    "    # Parse the html content\n",
    "    soup = BeautifulSoup(html_content, \"lxml\")\n",
    "    html_tle = soup.find(\"div\", {\"id\": \"tle\"})\n",
    "    tle_temp = \"NORAD ID {0:d}\\n\".format(noradId) + \"\\n\".join(html_tle.find(\"pre\").text.replace(\"\\r\",\"\").split(\"\\n\")[1:3])\n",
    "    tle.append(tle_temp)"
   ]
  },
  {
   "cell_type": "code",
   "execution_count": 3,
   "metadata": {},
   "outputs": [
    {
     "data": {
      "text/plain": [
       "'NORAD ID 44772\\n1 44772U 19074BM  19321.58334491  .00320810  00000-0  12893-2 0  9997\\n2 44772  53.0073 141.1502 0001298  55.5500 297.1915 15.85056013   950'"
      ]
     },
     "execution_count": 3,
     "metadata": {},
     "output_type": "execute_result"
    }
   ],
   "source": [
    "tle[0]"
   ]
  },
  {
   "cell_type": "markdown",
   "metadata": {},
   "source": [
    "## Compute satellite position from TLE"
   ]
  },
  {
   "cell_type": "code",
   "execution_count": 4,
   "metadata": {},
   "outputs": [
    {
     "data": {
      "text/plain": [
       "datetime.datetime(2019, 11, 17, 21, 14, tzinfo=datetime.timezone.utc)"
      ]
     },
     "execution_count": 4,
     "metadata": {},
     "output_type": "execute_result"
    }
   ],
   "source": [
    "# Define moment of computation\n",
    "import datetime\n",
    "from astropy import time\n",
    "t_comp = datetime.datetime(2019, 11, 17, 21, 14, 0, tzinfo=datetime.timezone(datetime.timedelta(hours=0)))\n",
    "t_comp.tzname()\n",
    "t_comp"
   ]
  },
  {
   "cell_type": "markdown",
   "metadata": {},
   "source": [
    "### Get topocentric position"
   ]
  },
  {
   "cell_type": "code",
   "execution_count": 9,
   "metadata": {},
   "outputs": [
    {
     "name": "stdout",
     "output_type": "stream",
     "text": [
      "Azimuth: 166.0 deg\n",
      "Elevation: -50.3 deg\n",
      "Range: 10193 km\n"
     ]
    }
   ],
   "source": [
    "import numpy as np\n",
    "from astropy.coordinates import EarthLocation, BaseCoordinateFrame\n",
    "from astropy import coordinates as coord\n",
    "from pycraf import satellite\n",
    "\n",
    "# Define observer location\n",
    "location = EarthLocation(lon=17.5, lat=48, height=200)\n",
    "\n",
    "# create a SatelliteObserver instance\n",
    "sat_obs = satellite.SatelliteObserver(location)\n",
    "\n",
    "# Get satellite position in Earth centered Intertial frame (ECI)\n",
    "az, el, dist = sat_obs.azel_from_sat(tle[0], time.Time(t_comp))  \n",
    "print('Azimuth: {:.1f}\\nElevation: {:.1f}\\nRange: {:.0f}'.format(az, el, dist)) "
   ]
  },
  {
   "cell_type": "markdown",
   "metadata": {},
   "source": [
    "### Get geocentric position in ECI frame"
   ]
  },
  {
   "cell_type": "code",
   "execution_count": 6,
   "metadata": {},
   "outputs": [
    {
     "name": "stdout",
     "output_type": "stream",
     "text": [
      "ECI\n",
      "X: 2289.5 km\n",
      "Y: 3336.7 km\n",
      "Z: -5338.9 km\n"
     ]
    }
   ],
   "source": [
    "satname, sat = satellite.get_sat(tle[0])\n",
    "now = [t_comp.year, t_comp.month, t_comp.day, t_comp.hour, t_comp.minute, t_comp.second]\n",
    "satpos, satvel = sat.propagate(*now)\n",
    "print(\"ECI\\nX: {:.1f} km\\nY: {:.1f} km\\nZ: {:.1f} km\".format(*satpos))"
   ]
  },
  {
   "cell_type": "markdown",
   "metadata": {},
   "source": [
    "### Get geocentric position in ECEF frame"
   ]
  },
  {
   "cell_type": "code",
   "execution_count": 7,
   "metadata": {},
   "outputs": [
    {
     "name": "stdout",
     "output_type": "stream",
     "text": [
      "GCRS:\n",
      "X: 2289.5155300754536 km\n",
      "Y: 3336.684746687033 km\n",
      "Z: -5338.929849804127 km\n"
     ]
    }
   ],
   "source": [
    "import astropy.units as u\n",
    "gcrs = coord.SkyCoord(x=satpos[0]*u.km,\n",
    "                      y=satpos[1]*u.km,\n",
    "                      z=satpos[2]*u.km,\n",
    "                      frame=coord.GCRS,\n",
    "                      obstime=time.Time(t_comp),\n",
    "                      representation_type=\"cartesian\")\n",
    "print(\"GCRS:\\nX: {0:s}\\nY: {1:s}\\nZ: {2:s}\".format(gcrs.x,gcrs.y,gcrs.z))"
   ]
  },
  {
   "cell_type": "code",
   "execution_count": 8,
   "metadata": {},
   "outputs": [
    {
     "name": "stdout",
     "output_type": "stream",
     "text": [
      "ITRS:\n",
      "Longitude: 40.540698931408535 deg\n",
      "Latitude: -52.77871401021861 deg\n",
      "Height: 321.2177455567107 km\n"
     ]
    }
   ],
   "source": [
    "itrs = gcrs.transform_to(coord.ITRS)\n",
    "#itrs = coord.cartesian_to_spherical(*itrs.data.xyz.value)\n",
    "itrs.representation_type = 'spherical'\n",
    "print(\"ITRS:\\nLongitude: {0:s}\\nLatitude: {1:s}\\nHeight: {2:s}\".format(itrs.lon,itrs.lat,itrs.distance-6378*u.km))"
   ]
  }
 ],
 "metadata": {
  "kernelspec": {
   "display_name": "Python 3",
   "language": "python",
   "name": "python3"
  },
  "language_info": {
   "codemirror_mode": {
    "name": "ipython",
    "version": 3
   },
   "file_extension": ".py",
   "mimetype": "text/x-python",
   "name": "python",
   "nbconvert_exporter": "python",
   "pygments_lexer": "ipython3",
   "version": "3.7.3"
  }
 },
 "nbformat": 4,
 "nbformat_minor": 2
}
